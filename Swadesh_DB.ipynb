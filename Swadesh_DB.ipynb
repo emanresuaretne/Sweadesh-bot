{
 "cells": [
  {
   "cell_type": "code",
   "execution_count": 1,
   "id": "64624885",
   "metadata": {},
   "outputs": [],
   "source": [
    "import sqlite3"
   ]
  },
  {
   "cell_type": "markdown",
   "id": "9055e7ca",
   "metadata": {},
   "source": [
    "Создаём БД, в которой хотим хранить базовый список, списки для разных языков, а также информацию о правках"
   ]
  },
  {
   "cell_type": "code",
   "execution_count": 2,
   "id": "86897aab",
   "metadata": {},
   "outputs": [],
   "source": [
    "conn = sqlite3.connect('Swadesh.db')\n",
    "cur = conn.cursor()"
   ]
  },
  {
   "cell_type": "code",
   "execution_count": 3,
   "id": "dd9a7294",
   "metadata": {},
   "outputs": [
    {
     "data": {
      "text/plain": [
       "<sqlite3.Cursor at 0x1ba7951d3b0>"
      ]
     },
     "execution_count": 3,
     "metadata": {},
     "output_type": "execute_result"
    }
   ],
   "source": [
    "cur.execute('''\n",
    "CREATE TABLE IF NOT EXISTS \"base_list\" (\n",
    "\"id\" INTEGER NOT NULL UNIQUE,\n",
    "\"word\" TEXT NOT NULL UNIQUE,\n",
    "PRIMARY KEY(\"id\")\n",
    ");\n",
    "''')"
   ]
  },
  {
   "cell_type": "code",
   "execution_count": 4,
   "id": "51187ce4",
   "metadata": {},
   "outputs": [
    {
     "data": {
      "text/plain": [
       "<sqlite3.Cursor at 0x1ba7951d3b0>"
      ]
     },
     "execution_count": 4,
     "metadata": {},
     "output_type": "execute_result"
    }
   ],
   "source": [
    "cur.execute('''\n",
    "CREATE TABLE IF NOT EXISTS \"editors\" (\n",
    "\"id\" INTEGER NOT NULL UNIQUE,\n",
    "\"username\" TEXT NOT NULL,\n",
    "\"telegram_id\" INTEGER NOT NULL UNIQUE,\n",
    "PRIMARY KEY(\"id\" AUTOINCREMENT)\n",
    ");\n",
    "''')"
   ]
  },
  {
   "cell_type": "code",
   "execution_count": 5,
   "id": "8d0e9be2",
   "metadata": {},
   "outputs": [
    {
     "data": {
      "text/plain": [
       "<sqlite3.Cursor at 0x1ba7951d3b0>"
      ]
     },
     "execution_count": 5,
     "metadata": {},
     "output_type": "execute_result"
    }
   ],
   "source": [
    "cur.execute('''\n",
    "CREATE TABLE IF NOT EXISTS \"edits\" (\n",
    "\"id\" INTEGER NOT NULL UNIQUE,\n",
    "\"user_id\" INTEGER NOT NULL,\n",
    "\"state\" INTEGER NOT NULL,\n",
    "\"language_group\" TEXT NOT NULL,\n",
    "\"line\" INTEGER NOT NULL,\n",
    "PRIMARY KEY(\"id\" AUTOINCREMENT)\n",
    ");\n",
    "''')"
   ]
  },
  {
   "cell_type": "markdown",
   "id": "25e56bf8",
   "metadata": {},
   "source": [
    "Теперь наполняем её собственно списками языков, к сожалению, этот процесс придётся проводить для каждой группы отдельно в силу неоднородности википедийных таблиц"
   ]
  },
  {
   "cell_type": "code",
   "execution_count": 6,
   "id": "5bb16903",
   "metadata": {},
   "outputs": [],
   "source": [
    "import requests\n",
    "from bs4 import BeautifulSoup\n",
    "import re"
   ]
  },
  {
   "cell_type": "code",
   "execution_count": 7,
   "id": "d525f446",
   "metadata": {},
   "outputs": [],
   "source": [
    "session = requests.session()"
   ]
  },
  {
   "cell_type": "markdown",
   "id": "afe70bd9",
   "metadata": {},
   "source": [
    "Базовый список"
   ]
  },
  {
   "cell_type": "code",
   "execution_count": 8,
   "id": "343f97be",
   "metadata": {},
   "outputs": [],
   "source": [
    "url = 'https://en.wiktionary.org/wiki/Appendix:English_Swadesh_list'\n",
    "response = session.get(url)\n",
    "page = response.text\n",
    "soup = BeautifulSoup(page, 'html.parser')\n",
    "table = soup.find_all('table')[0].find_all('tr')\n",
    "\n",
    "tbody = []\n",
    "\n",
    "for body in table:\n",
    "    tbody.append(body.find_all('td'))\n",
    "\n",
    "for body in tbody[1:]:\n",
    "#     print(body[1].text[:-1])\n",
    "    cur.execute(f\"\"\"\n",
    "    INSERT INTO base_list\n",
    "    (word)\n",
    "    VALUES\n",
    "    ('{body[1].text[:-1]}');\n",
    "    \"\"\")\n",
    "\n",
    "conn.commit()"
   ]
  },
  {
   "cell_type": "markdown",
   "id": "5edbbe47",
   "metadata": {},
   "source": [
    "Кельтские языки (разбиты на три таблицы, есть реконструкции):"
   ]
  },
  {
   "cell_type": "code",
   "execution_count": 9,
   "id": "87cd8121",
   "metadata": {},
   "outputs": [],
   "source": [
    "for pages in ['', '/92-146', '/147-207']:\n",
    "    group = 'Celtic'\n",
    "    url = f'https://en.wiktionary.org/wiki/Appendix:{group}_Swadesh_lists' + pages\n",
    "    response = session.get(url)\n",
    "    page = response.text\n",
    "    soup = BeautifulSoup(page, 'html.parser')\n",
    "    table = soup.find_all('table')[1].find_all('tr')\n",
    "    thead = [head.text.split('edit')[0].replace('\\n', '') for head in table[0].find_all('th')[3:]]\n",
    "    cur.execute(f'''CREATE TABLE IF NOT EXISTS \"{group}\" (\"id\" INTEGER NOT NULL UNIQUE, \"state\"\tINTEGER NOT NULL, PRIMARY KEY(\"id\" AUTOINCREMENT));''')\n",
    "    try:\n",
    "        for c in thead:\n",
    "            cur.execute(f'''ALTER TABLE \"{group}\" ADD COLUMN \"{c}\" TEXT;''')\n",
    "    except:\n",
    "        pass\n",
    "    \n",
    "    tbody = []\n",
    "\n",
    "    for body in table[1:]:\n",
    "        line = [element.text.replace('\\n', ' 0').replace(', ', ' 0  ') for element in body.find_all('td')[4:]]\n",
    "        tbody.append(line)\n",
    "    \n",
    "    for line in tbody:\n",
    "        cur.execute(f\"\"\"\n",
    "        INSERT INTO {group}\n",
    "        ({', '.join([f'\"{c}\"' for c in thead]) + ''', \"state\"'''})\n",
    "        VALUES\n",
    "        ({', '.join([f'\"{c}\"' for c in line]) + ', -1'});\n",
    "        \"\"\")\n",
    "        \n",
    "conn.commit()"
   ]
  },
  {
   "cell_type": "markdown",
   "id": "af1bec3d",
   "metadata": {},
   "source": [
    "Балтийские языки (ничего сложного, опыт обработки пустых ячеек в таблице):"
   ]
  },
  {
   "cell_type": "code",
   "execution_count": 10,
   "id": "a0a8786e",
   "metadata": {},
   "outputs": [],
   "source": [
    "group = 'Baltic'\n",
    "url = f'https://en.wiktionary.org/wiki/Appendix:{group}_Swadesh_lists'\n",
    "response = session.get(url)\n",
    "page = response.text\n",
    "soup = BeautifulSoup(page, 'html.parser')\n",
    "table = soup.find_all('table')[0].find_all('tr')\n",
    "\n",
    "thead = [head.text.split('edit')[0].replace('\\n', '') for head in table[0].find_all('th')[1:]]\n",
    "cur.execute(f'''CREATE TABLE IF NOT EXISTS \"{group}\" (\"id\" INTEGER NOT NULL UNIQUE, \"state\"\tINTEGER NOT NULL, PRIMARY KEY(\"id\" AUTOINCREMENT));''')\n",
    "try:\n",
    "    for c in thead:\n",
    "        cur.execute(f'''ALTER TABLE \"{group}\" ADD COLUMN \"{c}\" TEXT;''')\n",
    "except:\n",
    "    pass\n",
    "\n",
    "tbody = []\n",
    "\n",
    "for body in table[1:]:\n",
    "    line = [re.sub(r'\\s\\\"?\\([a-z]+\\)\\\"?', '', element.text\n",
    "                   .replace('-\\n', '')\n",
    "                   .replace('\\n', ' 0')\n",
    "                   .replace(', ', ' 0  '))\n",
    "            for element in body.find_all('td')[2:]]\n",
    "    tbody.append(line)\n",
    "    \n",
    "for line in tbody:\n",
    "    cur.execute(f\"\"\"\n",
    "    INSERT INTO {group}\n",
    "    ({', '.join([f'\"{c}\"' for c in thead]) + ''', \"state\"'''})\n",
    "    VALUES\n",
    "    ({', '.join([f'\"{c}\"' for c in line]) + ', -1'});\n",
    "    \"\"\")\n",
    "\n",
    "conn.commit()"
   ]
  },
  {
   "cell_type": "markdown",
   "id": "ec2a3a33",
   "metadata": {},
   "source": [
    "Славянские языки (черновым вариантом решаю оставить оба вхождения слова для языков с кирилическими алфавитами)"
   ]
  },
  {
   "cell_type": "code",
   "execution_count": 11,
   "id": "e22976cd",
   "metadata": {},
   "outputs": [],
   "source": [
    "group = 'Slavic'\n",
    "url = f'https://en.wiktionary.org/wiki/Appendix:{group}_Swadesh_lists'\n",
    "response = session.get(url)\n",
    "page = response.text\n",
    "soup = BeautifulSoup(page, 'html.parser')\n",
    "table = soup.find_all('table')[0].find_all('tr')\n",
    "\n",
    "thead = [re.sub('\\( | \\)', '', head\n",
    "        .get_text(separator=' ')\n",
    "        .split('edit')[0])\n",
    "        .replace('  ', '') \n",
    "        for head in table[0].find_all('th')[4:]]\n",
    "cur.execute(f'''CREATE TABLE IF NOT EXISTS \"{group}\" (\"id\" INTEGER NOT NULL UNIQUE, \"state\"\tINTEGER NOT NULL, PRIMARY KEY(\"id\" AUTOINCREMENT));''')\n",
    "try:\n",
    "    for c in thead:\n",
    "        cur.execute(f'''ALTER TABLE \"{group}\" ADD COLUMN \"{c}\" TEXT;''')\n",
    "except:\n",
    "    pass\n",
    "\n",
    "tbody = []\n",
    "\n",
    "for body in table[1:]:\n",
    "    line = [element.text\n",
    "            .replace('*', '')\n",
    "            .replace(' (', ', ')\n",
    "            .replace(', ', ' 0  ')\n",
    "            .replace(')', '')\n",
    "            .replace('-', '')\n",
    "            + ' 0'\n",
    "            for element in body.find_all('td')[4:]]\n",
    "    tbody.append(line)\n",
    "    \n",
    "for line in tbody:\n",
    "    cur.execute(f\"\"\"\n",
    "    INSERT INTO {group}\n",
    "    ({', '.join([f'\"{c}\"' for c in thead]) + ''', \"state\"'''})\n",
    "    VALUES\n",
    "    ({', '.join([f'\"{c}\"' for c in line]) + ', -1'});\n",
    "    \"\"\")\n",
    "\n",
    "conn.commit()"
   ]
  },
  {
   "cell_type": "markdown",
   "id": "b5ac6822",
   "metadata": {},
   "source": [
    "Прибалтийско-финские языки"
   ]
  },
  {
   "cell_type": "code",
   "execution_count": 12,
   "id": "e31a6fee",
   "metadata": {},
   "outputs": [],
   "source": [
    "group = 'Finnic'\n",
    "url = f'https://en.wiktionary.org/wiki/Appendix:{group}_Swadesh_lists'\n",
    "response = session.get(url)\n",
    "page = response.text\n",
    "soup = BeautifulSoup(page, 'html.parser')\n",
    "table = soup.find_all('table')[0].find_all('tr')\n",
    "\n",
    "thead = [re.sub('\\( | \\)', '', head\n",
    "        .get_text(separator=' ')\n",
    "        .split('edit')[0])\n",
    "        .replace('  ', '') \n",
    "        for head in table[0].find_all('th')[2:]]\n",
    "cur.execute(f'''CREATE TABLE IF NOT EXISTS \"{group}\" (\"id\" INTEGER NOT NULL UNIQUE, \"state\"\tINTEGER NOT NULL, PRIMARY KEY(\"id\" AUTOINCREMENT));''')\n",
    "try:\n",
    "    for c in thead:\n",
    "        cur.execute(f'''ALTER TABLE \"{group}\" ADD COLUMN \"{c}\" TEXT;''')\n",
    "except:\n",
    "    pass\n",
    "\n",
    "tbody = []\n",
    "\n",
    "for body in table[1:]:\n",
    "    line = [element.text.replace(', ', ' 0  ').replace('*', '').replace('-', '') + ' 0' for element in body.find_all('td')[2:]]\n",
    "    tbody.append(line)\n",
    "    \n",
    "for line in tbody:\n",
    "    cur.execute(f\"\"\"\n",
    "    INSERT INTO {group}\n",
    "    ({', '.join([f'\"{c}\"' for c in thead]) + ''', \"state\"'''})\n",
    "    VALUES\n",
    "    ({', '.join([f'\"{c}\"' for c in line]) + ', -1'});\n",
    "    \"\"\")\n",
    "\n",
    "conn.commit()"
   ]
  },
  {
   "cell_type": "markdown",
   "id": "27ec3e4b",
   "metadata": {},
   "source": [
    "Тюркские языки"
   ]
  },
  {
   "cell_type": "code",
   "execution_count": 13,
   "id": "fd5ba0ab",
   "metadata": {},
   "outputs": [],
   "source": [
    "group = 'Turkic'\n",
    "url = f'https://en.wiktionary.org/wiki/Appendix:{group}_Swadesh_lists'\n",
    "response = session.get(url)\n",
    "page = response.text\n",
    "soup = BeautifulSoup(page, 'html.parser')\n",
    "table = soup.find_all('table')[0].find_all('tr')\n",
    "\n",
    "thead = [re.sub('\\( | \\)', '', head\n",
    "        .get_text(separator=' ')\n",
    "        .split('edit')[0])\n",
    "        .replace('  ', '') \n",
    "        for head in table[0].find_all('th')[3:]]\n",
    "cur.execute(f'''CREATE TABLE IF NOT EXISTS \"{group}\" (\"id\" INTEGER NOT NULL UNIQUE, \"state\"\tINTEGER NOT NULL, PRIMARY KEY(\"id\" AUTOINCREMENT));''')\n",
    "try:\n",
    "    for c in thead:\n",
    "        cur.execute(f'''ALTER TABLE \"{group}\" ADD COLUMN \"{c}\" TEXT;''')\n",
    "except:\n",
    "    pass\n",
    "\n",
    "tbody = []\n",
    "\n",
    "for body in table[1:]:\n",
    "    line = [re.sub(r'\\(.+?\\)', '', element.text\n",
    "            .replace(', ', ' 0  ')\n",
    "            .replace('*', '')\n",
    "            .replace('-', '')\n",
    "            + ' 0')\n",
    "            for element in body.find_all('td')[3:]]\n",
    "    tbody.append(line)\n",
    "    \n",
    "for line in tbody:\n",
    "    cur.execute(f\"\"\"\n",
    "    INSERT INTO {group}\n",
    "    ({', '.join([f'\"{c}\"' for c in thead]) + ''', \"state\"'''})\n",
    "    VALUES\n",
    "    ({', '.join([f'\"{c}\"' for c in line]) + ', -1'});\n",
    "    \"\"\")\n",
    "\n",
    "conn.commit()"
   ]
  }
 ],
 "metadata": {
  "kernelspec": {
   "display_name": "Python 3 (ipykernel)",
   "language": "python",
   "name": "python3"
  },
  "language_info": {
   "codemirror_mode": {
    "name": "ipython",
    "version": 3
   },
   "file_extension": ".py",
   "mimetype": "text/x-python",
   "name": "python",
   "nbconvert_exporter": "python",
   "pygments_lexer": "ipython3",
   "version": "3.9.6"
  }
 },
 "nbformat": 4,
 "nbformat_minor": 5
}
